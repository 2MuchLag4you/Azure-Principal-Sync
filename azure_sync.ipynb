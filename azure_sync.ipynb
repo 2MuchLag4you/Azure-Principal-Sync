{
 "cells": [
  {
   "cell_type": "markdown",
   "metadata": {},
   "source": [
    "# Load modules"
   ]
  },
  {
   "cell_type": "code",
   "execution_count": null,
   "metadata": {},
   "outputs": [],
   "source": [
    "from azure_principal_sync import ServicePrincipal \n",
    "from azure_principal_sync.Models import UserPrincipal \n",
    "from msal import ConfidentialClientApplication\n",
    "from dotenv import load_dotenv \n",
    "import os"
   ]
  },
  {
   "cell_type": "markdown",
   "metadata": {},
   "source": [
    "# Load environment variables from .env file"
   ]
  },
  {
   "cell_type": "code",
   "execution_count": null,
   "metadata": {},
   "outputs": [],
   "source": [
    "load_dotenv()\n",
    "\n",
    "APP_ID = os.getenv('AZURE_CLIENT_APP_ID') \n",
    "TENANT_ID = os.getenv('AZURE_OWN_TENANT_ID') \n",
    "CLIENT_SECRET = os.getenv('AZURE_CLIENT_APP_SECRET')"
   ]
  },
  {
   "cell_type": "markdown",
   "metadata": {},
   "source": [
    "# Create a ConfidentialClientApplication\n"
   ]
  },
  {
   "cell_type": "code",
   "execution_count": null,
   "metadata": {},
   "outputs": [],
   "source": [
    "credential_client = ConfidentialClientApplication( client_id=APP_ID, client_credential=CLIENT_SECRET, authority=f'https://login.microsoftonline.com/{TENANT_ID}' )"
   ]
  },
  {
   "cell_type": "markdown",
   "metadata": {},
   "source": [
    "# Create a Service Principal"
   ]
  },
  {
   "cell_type": "code",
   "execution_count": null,
   "metadata": {},
   "outputs": [],
   "source": [
    "service_principal = ServicePrincipal( client_application=credential_client, tenant_id=TENANT_ID, log_dir=None )"
   ]
  },
  {
   "cell_type": "markdown",
   "metadata": {},
   "source": [
    "# Retrieve all assigned users (Including users in assigned groups)\n"
   ]
  },
  {
   "cell_type": "code",
   "execution_count": null,
   "metadata": {},
   "outputs": [],
   "source": [
    "def print_users_callback(users: list[UserPrincipal]) -> None: \n",
    "    \"\"\"Callback function to print each UserPrincipal in the users list.\"\"\" \n",
    "    for user in users: \n",
    "        print(user.json())\n",
    "        \n",
    "service_principal.manual_sync_service_principal(print_users_callback)"
   ]
  },
  {
   "cell_type": "markdown",
   "metadata": {},
   "source": [
    "# Retrieve Principal information\n",
    "## Retrieve groups"
   ]
  },
  {
   "cell_type": "code",
   "execution_count": null,
   "metadata": {},
   "outputs": [],
   "source": [
    "groups = service_principal.get_assigned_groups()\n",
    "for group in groups: \n",
    "    print(group.json())\n",
    "    print(group.__str__)"
   ]
  },
  {
   "cell_type": "markdown",
   "metadata": {},
   "source": [
    "## Retrieve permissions"
   ]
  },
  {
   "cell_type": "code",
   "execution_count": null,
   "metadata": {},
   "outputs": [],
   "source": [
    "permissions = service_principal.get_assigned_permissions()\n",
    "for permission in permissions: \n",
    "    print(permission.json())\n",
    "    print(permission.__str__)    "
   ]
  },
  {
   "cell_type": "markdown",
   "metadata": {},
   "source": [
    "## Retrieve directly assigned users"
   ]
  },
  {
   "cell_type": "code",
   "execution_count": null,
   "metadata": {},
   "outputs": [],
   "source": [
    "users = service_principal.get_assigned_users()\n",
    "for user in users: \n",
    "    print(user.json())\n",
    "    print(user.__str__)"
   ]
  },
  {
   "cell_type": "markdown",
   "metadata": {},
   "source": [
    "## Retrieve user principal name"
   ]
  },
  {
   "cell_type": "code",
   "execution_count": null,
   "metadata": {},
   "outputs": [],
   "source": [
    "for user in users:\n",
    "    print(user.json())\n",
    "    print(service_principal.get_user_principal_name(user.user_id))"
   ]
  },
  {
   "cell_type": "markdown",
   "metadata": {},
   "source": [
    "## Retrieve users in group"
   ]
  },
  {
   "cell_type": "code",
   "execution_count": null,
   "metadata": {},
   "outputs": [],
   "source": [
    "for group in groups:\n",
    "    print(group.json())\n",
    "    print(service_principal.get_users_assigned_to_group(group))"
   ]
  },
  {
   "cell_type": "markdown",
   "metadata": {},
   "source": [
    "# Synchronization methods\n",
    "## Automatic synchronization"
   ]
  },
  {
   "cell_type": "code",
   "execution_count": null,
   "metadata": {},
   "outputs": [],
   "source": [
    "def print_users_callback(users: list[UserPrincipal]) -> None: \n",
    "    \"\"\"Callback function to print each UserPrincipal in the users list.\"\"\" \n",
    "    for user in users: \n",
    "        print(user.json())\n",
    "service_principal.auto_sync_service_principal(interval=3600, callback=print_users_callback)\n"
   ]
  },
  {
   "cell_type": "markdown",
   "metadata": {},
   "source": [
    "## Manual synchronization"
   ]
  },
  {
   "cell_type": "code",
   "execution_count": null,
   "metadata": {},
   "outputs": [],
   "source": [
    "def print_users_callback(users: list[UserPrincipal]) -> None: \n",
    "    \"\"\"Callback function to print each UserPrincipal in the users list.\"\"\" \n",
    "    for user in users: \n",
    "        print(user.json())\n",
    "service_principal.manual_sync_service_principal(callback=print_users_callback)"
   ]
  }
 ],
 "metadata": {
  "kernelspec": {
   "display_name": "msal",
   "language": "python",
   "name": "python3"
  },
  "language_info": {
   "codemirror_mode": {
    "name": "ipython",
    "version": 3
   },
   "file_extension": ".py",
   "mimetype": "text/x-python",
   "name": "python",
   "nbconvert_exporter": "python",
   "pygments_lexer": "ipython3",
   "version": "3.10.14"
  }
 },
 "nbformat": 4,
 "nbformat_minor": 2
}
